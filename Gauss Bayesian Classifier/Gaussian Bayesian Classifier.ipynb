{
 "cells": [
  {
   "cell_type": "code",
   "execution_count": 76,
   "metadata": {},
   "outputs": [],
   "source": [
    "import numpy as np\n",
    "import pandas as pd\n",
    "from math import exp"
   ]
  },
  {
   "cell_type": "code",
   "execution_count": 77,
   "metadata": {},
   "outputs": [],
   "source": [
    "X = pd.read_csv('iris.csv', header=None, usecols=[0,1,2,3], names=['Sepal length','Sepal width','Petal length','Petal width'])\n",
    "Y = pd.read_csv('iris.csv', header=None, usecols=[4], names=['Class'])\n",
    "d=4\n",
    "\n",
    "def parameters(X):\n",
    "    covariance = np.array([np.array(X.loc[2:49].cov()), np.array(X.loc[52:99].cov()), np.array(X.loc[102:149].cov())]) #matriz de covariancia (excluindo os 2 primeiros dados de cada classe)\n",
    "    mean = np.array([np.array(X.loc[2:49].mean()), np.array(X.loc[52:99].mean()), np.array(X.loc[102:149].mean())]) #matriz da media dos atributos de X (para cada classe)\n",
    "    return mean, covariance #parametros da distribuição normal\n",
    "\n",
    "def classifier(x, mi, cov):\n",
    "    inv_cov = np.array([np.linalg.inv(cov[0]),np.linalg.inv(cov[1]),np.linalg.inv(cov[2])]) #matriz inversa da covariancia\n",
    "    det = np.array([np.linalg.det(inv_cov[0]),np.linalg.det(inv_cov[1]),np.linalg.det(inv_cov[2])]) #determinante da inversa da cov\n",
    "\n",
    "    #P(x|Wi,teta), considerando uma distribuição normal multivariada, onde i = 1, ..., c (classes)\n",
    "    p_x_w = np.array([((2*3.1415)**(d/2))*(det[0]**0.5)*exp(-0.5*(np.matmul(np.matmul((x-mi[0]).T,inv_cov[0]),(x-mi[0])))),\n",
    "                 ((2*3.1415)**(d/2))*(det[1]**0.5)*exp(-0.5*(np.matmul(np.matmul((x-mi[1]).T,inv_cov[1]),(x-mi[1])))),\n",
    "                 ((2*3.1415)**(d/2))*(det[2]**0.5)*exp(-0.5*(np.matmul(np.matmul((x-mi[2]).T,inv_cov[2]),(x-mi[2]))))])\n",
    "    p_w_x = p_x_w[:]/p_x_w.sum() #probabilidade a posteriori de cada classe, dado X\n",
    "    classes = ['Iris-setosa','Iris-versicolor','Iris-virginica']\n",
    "    return classes[np.argmax(p_w_x)] #retorna a classe"
   ]
  },
  {
   "cell_type": "code",
   "execution_count": 78,
   "metadata": {},
   "outputs": [
    {
     "name": "stdout",
     "output_type": "stream",
     "text": [
      "Iris-setosa\n",
      "Iris-setosa\n",
      "Iris-versicolor\n",
      "Iris-versicolor\n",
      "Iris-virginica\n",
      "Iris-virginica\n"
     ]
    }
   ],
   "source": [
    "x_validation = np.array([X.loc[0],X.loc[1],X.loc[50],X.loc[51],X.loc[100],X.loc[101]]) \n",
    "#exemplo teste de X são os dois primeiros dados de cada classe\n",
    "med, covar = parameters(X)\n",
    "\n",
    "for x in x_validation:\n",
    "    print(classifier(x, med, covar))"
   ]
  },
  {
   "cell_type": "code",
   "execution_count": 142,
   "metadata": {},
   "outputs": [
    {
     "data": {
      "text/plain": [
       "array([0., 0., 0., 0., 0., 0., 1.])"
      ]
     },
     "execution_count": 142,
     "metadata": {},
     "output_type": "execute_result"
    }
   ],
   "source": [
    "d=18\n",
    "data = pd.read_csv('segmentation1.csv')\n",
    "data_x = pd.read_csv('x.csv')\n",
    "classes = [\"BRICKFACE\", \"SKY\", \"FOLIAGE\", \"CEMENT\", \"WINDOW\", \"PATH\", \"GRASS\"]\n",
    "c = len(classes)\n",
    "\n",
    "covariance = np.zeros((c,18,18))\n",
    "mean = np.zeros((c,18))\n",
    "inv_covar = np.zeros((c,18,18))\n",
    "det = np.zeros(c)\n",
    "p_x_w = np.zeros(c)\n",
    "\n",
    "x = np.array(data_x.iloc[0])\n",
    "\n",
    "for i,classe in enumerate(classes):\n",
    "    covariance[i] = np.array(data.loc[data[\"CLASS\"]==classe,\"REGION-CENTROID-COL\":\"HUE-MEAN\"].cov())\n",
    "    mean[i] = np.array(data.loc[data[\"CLASS\"]==classe,\"REGION-CENTROID-COL\":\"HUE-MEAN\"].mean())\n",
    "    inv_covar[i] = np.linalg.inv(covariance[i])\n",
    "    det[i] = abs(np.linalg.det(inv_covar[i]))\n",
    "    p_x_w[i] = ((2*3.1415)**(d/2))*(det[i]**0.5)*exp(-0.5*(np.matmul(np.matmul((x-mean[i]).T,inv_covar[i]),(x-mean[i]))))\n",
    "    \n",
    "p_x_w/p_x_w.sum() #classificou corretamente"
   ]
  },
  {
   "cell_type": "code",
   "execution_count": null,
   "metadata": {},
   "outputs": [],
   "source": []
  }
 ],
 "metadata": {
  "kernelspec": {
   "display_name": "Python 3",
   "language": "python",
   "name": "python3"
  },
  "language_info": {
   "codemirror_mode": {
    "name": "ipython",
    "version": 3
   },
   "file_extension": ".py",
   "mimetype": "text/x-python",
   "name": "python",
   "nbconvert_exporter": "python",
   "pygments_lexer": "ipython3",
   "version": "3.5.2"
  }
 },
 "nbformat": 4,
 "nbformat_minor": 2
}
